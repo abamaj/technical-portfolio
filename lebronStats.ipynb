{
 "cells": [
  {
   "cell_type": "markdown",
   "metadata": {},
   "source": [
    "## Applied Machine Learning\n",
    "\n",
    "### Project 1\n",
    "\n",
    "In this class, we have worked to understand both general principles of machine learning methods and specific details of particular machine learning techniques. For this project, you will apply what you have learned in this course to formulate and answer your own question.\n",
    "\n",
    "**Important:** Be sure to include code and answers in the correct cells of the notebook. Otherwise you might not get full credit for your work.\n",
    "\n",
    "Please use this notebook to turn in your work. \n",
    "\n",
    "Points: 20\n",
    "\n",
    "You will be graded based on:\n",
    "1. __Technical completeness__. _(12 points)_ \n",
    "\n",
    "Did you meet the technical requirements for the project? For instance, did you describe hyperparameter tuning and include plots, where necessary.\n",
    "\n",
    "2. __Creativity, imagination and ambition__. _(3 points)_ \n",
    "\n",
    "Did you form an interesting, creative and ambitious question, and explain why it is important to answer that question?\n",
    "\n",
    "_Note: downloading a ready-made dataset you find online (e.g. on Kaggle) and answering a question that is already defined for you will make it hard to get full points for creativity, imagination and ambition. (Unless you do something else interesting and ambitious, e.g. analyze attributes of a specific model very closely.) To get full points for creativity/imagination/ambition you will need to think a little a bit more. The bar will be higher for 5604 students._\n",
    "\n",
    "3. __Presentation__. _(5 points)_ \n",
    "\n",
    "Did you do a good job presenting your results? Would your notebook make sense to a person who was not familiar with your project? You should take time to write clearly, simplify your code and explain what you are doing in your notebook. At minimum:\n",
    "\n",
    "- Make sure your plots are well-labeled and appropriately scaled, delete code that does not work correctly, and be sure to mix code and text so that readers can easily understand your work. \n",
    "- Check out [this](https://jakevdp.github.io/blog/2015/07/23/learning-seattles-work-habits-from-bicycle-counts/) blog post for a nice example of how to present a data analysis clearly.\n",
    "- Put yourself in the reader's shoes. What would be confusing? Annoying? Helpful?"
   ]
  },
  {
   "cell_type": "markdown",
   "metadata": {},
   "source": [
    "## Question \n",
    "\n",
    "_Using this cell, please write a short, clear paragraph explaining what question you plan to answer in this notebook. Your question can be narrow (e.g. can we predict a dog's height from its weight) or broad (e.g. what features are important or unimportant in predicting the price of a house). Briefly describe why your question is important and how you plan to answer. Be sure to explain what is imaginative, creative or ambitious about your planned work! For instance, will you spend a lot of time defining new features, will you be working with hard-to-get data, will your work inform a major theoretical debate? Be sure to ask a question you can actually start to answer using machine learning techniques!_\n",
    "\n",
    "- Easily one of the best basketball players to ever live, LeBron James has many people in awe of his abilities. A combination if his insane physical abilities and high basketball IQ make him a force to be reckoned with on the wood floor. Looking at LeBron's magnificent career, I thought it would be cool to create a model based on his points, assists, rebounds, steals, blocks, turnovers, field goal percentage and number of minutes played, ato predict whether his side would win a matchup. This is an important question to ask, one can use these numbers to find a numeric correlation to LeBron's numbers and the influence he has on a match. We can analyze where his contributions are making the most impact in order to cause him to win so much."
   ]
  },
  {
   "cell_type": "markdown",
   "metadata": {},
   "source": [
    "## Data\n",
    "\n",
    "_Using this cell, please write a short, clear paragraph explaining what data you will use to answer your question. You do not need to go gather custom datasets for this class, although you are welcome to do so. Just downloading data from Kaggle is fine, although you are highly encouraged to think a little harder and more creatively when you do the project. There are many, many places to find interesting datasets online related to many topics like music, politics, sports, transportation, etc. Data gathering is one way to make your project more creative, but you are not necessarily expected to take on a major data gathering effort. If applicable, describe how you plan to split between the training and test sets. You might want to check out Google's [dataset search](https://datasetsearch.research.google.com/)_\n",
    "\n",
    "- I will be using the NBA API python library that features a vast repository of basketball data. I will used this scraped material to collect statistics on every game that LeBron has played in his career. I will 70% of the data for training, and 30% for testing."
   ]
  },
  {
   "cell_type": "markdown",
   "metadata": {},
   "source": [
    "#### Data preprocessing"
   ]
  },
  {
   "cell_type": "code",
   "execution_count": 143,
   "metadata": {},
   "outputs": [],
   "source": [
    "import time\n",
    "import numpy as np\n",
    "import pandas as pd\n",
    "import seaborn as sns\n",
    "\n",
    "import matplotlib.pyplot as plt \n",
    "from nba_api.stats.endpoints import playergamelog\n",
    "from nba_api.stats.library.parameters import SeasonAll"
   ]
  },
  {
   "cell_type": "code",
   "execution_count": 144,
   "metadata": {},
   "outputs": [],
   "source": [
    "gamelog_lebron = playergamelog.PlayerGameLog(player_id='2544', season=SeasonAll.all)\n",
    "gamelog_lebron_df = gamelog_lebron.get_data_frames()[0]\n",
    "LeBron_Stats = gamelog_lebron_df[['PTS', 'AST', 'REB', 'STL', 'BLK', 'TOV', 'MIN', 'FG_PCT', 'WL']][::-1]\n",
    "LeBron_Stats[\"WL\"].replace({\"W\": 1, \"L\": 0}, inplace=True)\n",
    "time.sleep(.600)"
   ]
  },
  {
   "cell_type": "markdown",
   "metadata": {},
   "source": [
    "- Here is our final dataframe:"
   ]
  },
  {
   "cell_type": "code",
   "execution_count": 55,
   "metadata": {},
   "outputs": [
    {
     "name": "stdout",
     "output_type": "stream",
     "text": [
      "      PTS  AST  REB  STL  BLK  TOV  MIN  FG_PCT  WL\n",
      "1309   25    9    6    4    0    2   42   0.600   0\n",
      "1308   21    8   12    1    0    7   41   0.471   0\n",
      "1307    8    6    4    2    0    2   39   0.250   0\n",
      "1306    7    7   11    2    3    2   41   0.273   0\n",
      "1305   23    3    5    0    0    7   44   0.444   0\n",
      "...   ...  ...  ...  ...  ...  ...  ...     ...  ..\n",
      "4      10    4    1    0    0    1   11   0.500   0\n",
      "3      16    7    8    2    1    5   32   0.500   0\n",
      "2      19    6    7    0    0    5   28   0.545   0\n",
      "1      24    8    7    0    0    4   28   0.500   1\n",
      "0      25    6    1    3    0    2   27   0.500   1\n",
      "\n",
      "[1310 rows x 9 columns]\n"
     ]
    }
   ],
   "source": [
    "print(LeBron_Stats)"
   ]
  },
  {
   "cell_type": "code",
   "execution_count": 56,
   "metadata": {},
   "outputs": [],
   "source": [
    "LeBron_Stats.to_csv('Lebron_Stats.csv')"
   ]
  },
  {
   "cell_type": "code",
   "execution_count": 196,
   "metadata": {},
   "outputs": [],
   "source": [
    "from sklearn.linear_model import LogisticRegression\n",
    "from sklearn.metrics import accuracy_score\n",
    "from sklearn.metrics import confusion_matrix\n",
    "from sklearn.model_selection import train_test_split\n",
    "from sklearn.preprocessing import StandardScaler\n",
    "import sklearn.linear_model"
   ]
  },
  {
   "cell_type": "code",
   "execution_count": 61,
   "metadata": {},
   "outputs": [
    {
     "name": "stdout",
     "output_type": "stream",
     "text": [
      "percentage of losses 33.664122137404576\n",
      "percentage of wins 66.33587786259541\n"
     ]
    },
    {
     "data": {
      "image/png": "[encoded data removed]",
      "text/plain": [
       "<Figure size 432x288 with 1 Axes>"
      ]
     },
     "metadata": {
      "needs_background": "light"
     },
     "output_type": "display_data"
    }
   ],
   "source": [
    "sns.countplot(x='WL', data=Lebron_stats, palette='hls').set_title(\"Total Wins and Losses\")\n",
    "l = len(Lebron_stats[Lebron_stats['WL']==0])\n",
    "w = len(Lebron_stats[Lebron_stats['WL']==1])\n",
    "pct_l = l/(l+w)\n",
    "print(\"percentage of losses\", pct_l*100)\n",
    "pct_w = w/(l+w)\n",
    "print(\"percentage of wins\", pct_w*100)"
   ]
  },
  {
   "cell_type": "code",
   "execution_count": 62,
   "metadata": {},
   "outputs": [
    {
     "data": {
      "text/plain": [
       "1    869\n",
       "0    441\n",
       "Name: WL, dtype: int64"
      ]
     },
     "execution_count": 62,
     "metadata": {},
     "output_type": "execute_result"
    }
   ],
   "source": [
    "Lebron_stats['WL'].value_counts()"
   ]
  },
  {
   "cell_type": "code",
   "execution_count": 67,
   "metadata": {},
   "outputs": [
    {
     "name": "stdout",
     "output_type": "stream",
     "text": [
      "Training percentage of losses 35.32934131736527\n",
      "Training percentage of wins 66.57917760279966\n"
     ]
    },
    {
     "data": {
      "image/png": "[encoded data removed]",
      "text/plain": [
       "<Figure size 432x288 with 1 Axes>"
      ]
     },
     "metadata": {
      "needs_background": "light"
     },
     "output_type": "display_data"
    }
   ],
   "source": [
    "sns.countplot(x='WL', data=Lebron_train, palette='hls').set_title(\"Training Total Wins and Losses\")\n",
    "l_train = len(Lebron_train[Lebron_train['WL']==0])\n",
    "w_train = len(Lebron_train[Lebron_train['WL']==1])\n",
    "pct_l_train = l/(l+w)\n",
    "print(\"Training percentage of losses\", pct_l_train*100)\n",
    "pct_w_train = w_train/(l_train+w_train)\n",
    "print(\"Training percentage of wins\", pct_w_train*100)"
   ]
  },
  {
   "cell_type": "code",
   "execution_count": 64,
   "metadata": {},
   "outputs": [
    {
     "data": {
      "text/plain": [
       "1    761\n",
       "0    382\n",
       "Name: WL, dtype: int64"
      ]
     },
     "execution_count": 64,
     "metadata": {},
     "output_type": "execute_result"
    }
   ],
   "source": [
    "Lebron_train['WL'].value_counts()"
   ]
  },
  {
   "cell_type": "code",
   "execution_count": 68,
   "metadata": {},
   "outputs": [
    {
     "name": "stdout",
     "output_type": "stream",
     "text": [
      "percentage of losses 35.32934131736527\n",
      "percentage of wins 64.67065868263472\n"
     ]
    },
    {
     "data": {
      "image/png": "[encoded data removed]",
      "text/plain": [
       "<Figure size 432x288 with 1 Axes>"
      ]
     },
     "metadata": {
      "needs_background": "light"
     },
     "output_type": "display_data"
    }
   ],
   "source": [
    "sns.countplot(x='WL', data=Lebron_test, palette='hls').set_title(\"Test Total Wins and Losses\")\n",
    "l_test = len(Lebron_test[Lebron_test['WL']==0])\n",
    "w_test = len(Lebron_test[Lebron_test['WL']==1])\n",
    "pct_l_test = l_test/(l_test+w_test)\n",
    "print(\"percentage of losses\", pct_l_test*100)\n",
    "pct_w_test = w_test/(l_test+w_test)\n",
    "print(\"percentage of wins\", pct_w_test*100)"
   ]
  },
  {
   "cell_type": "code",
   "execution_count": 69,
   "metadata": {},
   "outputs": [
    {
     "data": {
      "text/plain": [
       "1    108\n",
       "0     59\n",
       "Name: WL, dtype: int64"
      ]
     },
     "execution_count": 69,
     "metadata": {},
     "output_type": "execute_result"
    }
   ],
   "source": [
    "Lebron_test['WL'].value_counts()"
   ]
  },
  {
   "cell_type": "code",
   "execution_count": 79,
   "metadata": {},
   "outputs": [
    {
     "data": {
      "text/html": [
       "<div>\n",
       "<style scoped>\n",
       "    .dataframe tbody tr th:only-of-type {\n",
       "        vertical-align: middle;\n",
       "    }\n",
       "\n",
       "    .dataframe tbody tr th {\n",
       "        vertical-align: top;\n",
       "    }\n",
       "\n",
       "    .dataframe thead th {\n",
       "        text-align: right;\n",
       "    }\n",
       "</style>\n",
       "<table border=\"1\" class=\"dataframe\">\n",
       "  <thead>\n",
       "    <tr style=\"text-align: right;\">\n",
       "      <th></th>\n",
       "      <th>Unnamed: 0</th>\n",
       "      <th>PTS</th>\n",
       "      <th>AST</th>\n",
       "      <th>REB</th>\n",
       "      <th>STL</th>\n",
       "      <th>BLK</th>\n",
       "      <th>TOV</th>\n",
       "      <th>MIN</th>\n",
       "      <th>FG_PCT</th>\n",
       "    </tr>\n",
       "    <tr>\n",
       "      <th>WL</th>\n",
       "      <th></th>\n",
       "      <th></th>\n",
       "      <th></th>\n",
       "      <th></th>\n",
       "      <th></th>\n",
       "      <th></th>\n",
       "      <th></th>\n",
       "      <th></th>\n",
       "      <th></th>\n",
       "    </tr>\n",
       "  </thead>\n",
       "  <tbody>\n",
       "    <tr>\n",
       "      <th>0</th>\n",
       "      <td>701.362812</td>\n",
       "      <td>25.682540</td>\n",
       "      <td>6.668934</td>\n",
       "      <td>7.063492</td>\n",
       "      <td>1.394558</td>\n",
       "      <td>0.668934</td>\n",
       "      <td>3.907029</td>\n",
       "      <td>39.190476</td>\n",
       "      <td>0.462220</td>\n",
       "    </tr>\n",
       "    <tr>\n",
       "      <th>1</th>\n",
       "      <td>630.718067</td>\n",
       "      <td>27.665132</td>\n",
       "      <td>7.773303</td>\n",
       "      <td>7.636364</td>\n",
       "      <td>1.666283</td>\n",
       "      <td>0.790564</td>\n",
       "      <td>3.301496</td>\n",
       "      <td>37.719217</td>\n",
       "      <td>0.526924</td>\n",
       "    </tr>\n",
       "  </tbody>\n",
       "</table>\n",
       "</div>"
      ],
      "text/plain": [
       "    Unnamed: 0        PTS       AST       REB       STL       BLK       TOV  \\\n",
       "WL                                                                            \n",
       "0   701.362812  25.682540  6.668934  7.063492  1.394558  0.668934  3.907029   \n",
       "1   630.718067  27.665132  7.773303  7.636364  1.666283  0.790564  3.301496   \n",
       "\n",
       "          MIN    FG_PCT  \n",
       "WL                       \n",
       "0   39.190476  0.462220  \n",
       "1   37.719217  0.526924  "
      ]
     },
     "execution_count": 79,
     "metadata": {},
     "output_type": "execute_result"
    }
   ],
   "source": [
    "Lebron_stats.groupby('WL').mean()"
   ]
  },
  {
   "cell_type": "code",
   "execution_count": 76,
   "metadata": {},
   "outputs": [
    {
     "data": {
      "text/html": [
       "<div>\n",
       "<style scoped>\n",
       "    .dataframe tbody tr th:only-of-type {\n",
       "        vertical-align: middle;\n",
       "    }\n",
       "\n",
       "    .dataframe tbody tr th {\n",
       "        vertical-align: top;\n",
       "    }\n",
       "\n",
       "    .dataframe thead th {\n",
       "        text-align: right;\n",
       "    }\n",
       "</style>\n",
       "<table border=\"1\" class=\"dataframe\">\n",
       "  <thead>\n",
       "    <tr style=\"text-align: right;\">\n",
       "      <th></th>\n",
       "      <th>Unnamed: 0</th>\n",
       "      <th>PTS</th>\n",
       "      <th>AST</th>\n",
       "      <th>REB</th>\n",
       "      <th>STL</th>\n",
       "      <th>BLK</th>\n",
       "      <th>TOV</th>\n",
       "      <th>MIN</th>\n",
       "      <th>FG_PCT</th>\n",
       "    </tr>\n",
       "    <tr>\n",
       "      <th>WL</th>\n",
       "      <th></th>\n",
       "      <th></th>\n",
       "      <th></th>\n",
       "      <th></th>\n",
       "      <th></th>\n",
       "      <th></th>\n",
       "      <th></th>\n",
       "      <th></th>\n",
       "      <th></th>\n",
       "    </tr>\n",
       "  </thead>\n",
       "  <tbody>\n",
       "    <tr>\n",
       "      <th>0</th>\n",
       "      <td>796.10733</td>\n",
       "      <td>25.921466</td>\n",
       "      <td>6.382199</td>\n",
       "      <td>6.942408</td>\n",
       "      <td>1.460733</td>\n",
       "      <td>0.693717</td>\n",
       "      <td>3.913613</td>\n",
       "      <td>39.916230</td>\n",
       "      <td>0.459746</td>\n",
       "    </tr>\n",
       "    <tr>\n",
       "      <th>1</th>\n",
       "      <td>708.83180</td>\n",
       "      <td>27.773982</td>\n",
       "      <td>7.582129</td>\n",
       "      <td>7.572930</td>\n",
       "      <td>1.717477</td>\n",
       "      <td>0.818660</td>\n",
       "      <td>3.247043</td>\n",
       "      <td>38.183968</td>\n",
       "      <td>0.528640</td>\n",
       "    </tr>\n",
       "  </tbody>\n",
       "</table>\n",
       "</div>"
      ],
      "text/plain": [
       "    Unnamed: 0        PTS       AST       REB       STL       BLK       TOV  \\\n",
       "WL                                                                            \n",
       "0    796.10733  25.921466  6.382199  6.942408  1.460733  0.693717  3.913613   \n",
       "1    708.83180  27.773982  7.582129  7.572930  1.717477  0.818660  3.247043   \n",
       "\n",
       "          MIN    FG_PCT  \n",
       "WL                       \n",
       "0   39.916230  0.459746  \n",
       "1   38.183968  0.528640  "
      ]
     },
     "execution_count": 76,
     "metadata": {},
     "output_type": "execute_result"
    }
   ],
   "source": [
    "Lebron_train.groupby('WL').mean()"
   ]
  },
  {
   "cell_type": "code",
   "execution_count": 77,
   "metadata": {},
   "outputs": [
    {
     "data": {
      "text/html": [
       "<div>\n",
       "<style scoped>\n",
       "    .dataframe tbody tr th:only-of-type {\n",
       "        vertical-align: middle;\n",
       "    }\n",
       "\n",
       "    .dataframe tbody tr th {\n",
       "        vertical-align: top;\n",
       "    }\n",
       "\n",
       "    .dataframe thead th {\n",
       "        text-align: right;\n",
       "    }\n",
       "</style>\n",
       "<table border=\"1\" class=\"dataframe\">\n",
       "  <thead>\n",
       "    <tr style=\"text-align: right;\">\n",
       "      <th></th>\n",
       "      <th>Unnamed: 0</th>\n",
       "      <th>PTS</th>\n",
       "      <th>AST</th>\n",
       "      <th>REB</th>\n",
       "      <th>STL</th>\n",
       "      <th>BLK</th>\n",
       "      <th>TOV</th>\n",
       "      <th>MIN</th>\n",
       "      <th>FG_PCT</th>\n",
       "    </tr>\n",
       "    <tr>\n",
       "      <th>WL</th>\n",
       "      <th></th>\n",
       "      <th></th>\n",
       "      <th></th>\n",
       "      <th></th>\n",
       "      <th></th>\n",
       "      <th></th>\n",
       "      <th></th>\n",
       "      <th></th>\n",
       "      <th></th>\n",
       "    </tr>\n",
       "  </thead>\n",
       "  <tbody>\n",
       "    <tr>\n",
       "      <th>0</th>\n",
       "      <td>87.932203</td>\n",
       "      <td>24.135593</td>\n",
       "      <td>8.525424</td>\n",
       "      <td>7.847458</td>\n",
       "      <td>0.966102</td>\n",
       "      <td>0.508475</td>\n",
       "      <td>3.864407</td>\n",
       "      <td>34.491525</td>\n",
       "      <td>0.478237</td>\n",
       "    </tr>\n",
       "    <tr>\n",
       "      <th>1</th>\n",
       "      <td>80.305556</td>\n",
       "      <td>26.898148</td>\n",
       "      <td>9.120370</td>\n",
       "      <td>8.083333</td>\n",
       "      <td>1.305556</td>\n",
       "      <td>0.592593</td>\n",
       "      <td>3.685185</td>\n",
       "      <td>34.444444</td>\n",
       "      <td>0.514833</td>\n",
       "    </tr>\n",
       "  </tbody>\n",
       "</table>\n",
       "</div>"
      ],
      "text/plain": [
       "    Unnamed: 0        PTS       AST       REB       STL       BLK       TOV  \\\n",
       "WL                                                                            \n",
       "0    87.932203  24.135593  8.525424  7.847458  0.966102  0.508475  3.864407   \n",
       "1    80.305556  26.898148  9.120370  8.083333  1.305556  0.592593  3.685185   \n",
       "\n",
       "          MIN    FG_PCT  \n",
       "WL                       \n",
       "0   34.491525  0.478237  \n",
       "1   34.444444  0.514833  "
      ]
     },
     "execution_count": 77,
     "metadata": {},
     "output_type": "execute_result"
    }
   ],
   "source": [
    "Lebron_test.groupby('WL').mean()"
   ]
  },
  {
   "cell_type": "code",
   "execution_count": null,
   "metadata": {},
   "outputs": [],
   "source": [
    "plt.scatter(x_train,y_train)\n",
    "plt.xlabel(\"Credit Balance\")\n",
    "plt.ylabel(\"Probability of Default\")"
   ]
  },
  {
   "cell_type": "code",
   "execution_count": 75,
   "metadata": {},
   "outputs": [
    {
     "name": "stdout",
     "output_type": "stream",
     "text": [
      "Loss Average 35.32934131736527\n",
      "Win Average 65.30683165602304\n"
     ]
    }
   ],
   "source": [
    "mean_loss_pct = (pct_l + pct_l_train + pct_l_test) / 3\n",
    "mean_win_pct = (pct_w + pct_w_train + pct_w_test) / 3\n",
    "print(f\"Loss Average {mean_loss_pct * 100}\")\n",
    "print(f\"Win Average {mean_win_pct * 100}\")"
   ]
  },
  {
   "cell_type": "markdown",
   "metadata": {},
   "source": [
    " ### Important Observations\n",
    " - LeBron's win loss average ratio is approximately 65:35\n",
    " - In matches where LeBron \n",
    " - LeBron scores between 26.8 & 27.7 points on average in matches that he wins\n",
    " - In games that LeBron wins, his averge field goal percente is at nearly about 51%+"
   ]
  },
  {
   "cell_type": "markdown",
   "metadata": {},
   "source": [
    "## Model selection and tuning\n",
    "\n",
    "_Using this cell, please write a short, clear paragraph explaining how you selected and tuned your model for the project. You must answer the following questions in this cell (1) Why is your model an appropriate choice for your data? (2) What hyperparameters does your model have and how did you select them? (3) What features did you choose and why?_\n",
    "\n",
    "Your answer here"
   ]
  },
  {
   "cell_type": "code",
   "execution_count": 137,
   "metadata": {},
   "outputs": [],
   "source": [
    "X_train_pts, X_test_pts, y_train_pts, y_test_pts = train_test_split(Lebron_stats[['PTS']],Lebron_stats.WL,train_size=0.3)\n",
    "X_train_ast, X_test_ast, y_train_ast, y_test_ast = train_test_split(Lebron_stats[['AST']],Lebron_stats.WL,train_size=0.3)\n",
    "X_train_fg, X_test_fg, y_train_fg, y_test_fg = train_test_split(Lebron_stats[['FG_PCT']],Lebron_stats.WL,train_size=0.3)\n",
    "X_train_min , X_test_min, y_train_min, y_test_min = train_test_split(Lebron_stats[['MIN']],Lebron_stats.WL,train_size=0.3)\n"
   ]
  },
  {
   "cell_type": "code",
   "execution_count": 140,
   "metadata": {},
   "outputs": [
    {
     "name": "stdout",
     "output_type": "stream",
     "text": [
      "Points to win accuracy: 68.04798255179935%\n",
      "Assist to win accuracy: 36.53217011995638%\n",
      "Field Goal Percentage to win accuracy: 33.042529989094874%\n"
     ]
    }
   ],
   "source": [
    "model_pts = LogisticRegression()\n",
    "\n",
    "model_pts.fit(X_train_pts, y_train_pts)\n",
    "p = model.score(X_test_pts,y_test_pts)\n",
    "\n",
    "print(f\"Points to win accuracy: {p * 100}%\")\n",
    "\n",
    "model_ast.fit(X_train_ast, y_train_ast)\n",
    "t = model.score(X_test_ast,y_test_ast)\n",
    "\n",
    "print(f\"Assist to win accuracy: {t * 100}%\")\n",
    "\n",
    "model_pts.fit(X_train_pts, y_train_pts)\n",
    "fg = model.score(X_test_fg,y_test_fg)\n",
    "\n",
    "print(f\"Field Goal Percentage to win accuracy: {fg * 100}%\")"
   ]
  },
  {
   "cell_type": "markdown",
   "metadata": {},
   "source": [
    "## Results\n",
    "\n",
    "_Using this cell, please write a short, clear paragraph explaining your results. In this class, we have mostly focused on accuracy. It is OK to measure your results in another quantitative way (e.g. precision or likelihood). Whatever you pick, make sure you are clear on what you are doing, and make sure you explain why your measurement of success makes sense._\n",
    "\n",
    "- Here we have attempted to answer whether doing a combination of the the points and assists to find the model accuracy would actually improve the accuracy. It did not do that. We even attempted to try 1000 different itereartions and the accuracy dropped as well, as portrayed on the graph"
   ]
  },
  {
   "cell_type": "code",
   "execution_count": 203,
   "metadata": {},
   "outputs": [
    {
     "name": "stdout",
     "output_type": "stream",
     "text": [
      "Point and Assist Accuracy: 66.46341463414635%\n"
     ]
    }
   ],
   "source": [
    "final = pd.read_csv('Lebron_Stats.csv')\n",
    "X = final.iloc[:,[1,2]].values\n",
    "y = final.iloc[:,9].values\n",
    "X_train, X_test, y_train, y_test = train_test_split(X,y,test_size=.25,random_state=0)\n",
    "sc = StandardScaler()\n",
    "X_train = sc.fit_transform(X_train)\n",
    "X_test = sc.transform(X_test)\n",
    "classifier = LogisticRegression(random_state=0)\n",
    "classifier.fit(X_train, y_train)\n",
    "y_pred = classifier.predict(X_test)\n",
    "print(f\"Point and Assist Accuracy: {accuracy_score(y_test, y_pred) * 100}%\")"
   ]
  },
  {
   "cell_type": "code",
   "execution_count": 209,
   "metadata": {},
   "outputs": [
    {
     "name": "stderr",
     "output_type": "stream",
     "text": [
      "/Users/jabam/opt/anaconda3/lib/python3.8/site-packages/sklearn/linear_model/_logistic.py:762: ConvergenceWarning: lbfgs failed to converge (status=1):\n",
      "STOP: TOTAL NO. of ITERATIONS REACHED LIMIT.\n",
      "\n",
      "Increase the number of iterations (max_iter) or scale the data as shown in:\n",
      "    https://scikit-learn.org/stable/modules/preprocessing.html\n",
      "Please also refer to the documentation for alternative solver options:\n",
      "    https://scikit-learn.org/stable/modules/linear_model.html#logistic-regression\n",
      "  n_iter_i = _check_optimize_result(\n",
      "/Users/jabam/opt/anaconda3/lib/python3.8/site-packages/sklearn/linear_model/_logistic.py:762: ConvergenceWarning: lbfgs failed to converge (status=1):\n",
      "STOP: TOTAL NO. of ITERATIONS REACHED LIMIT.\n",
      "\n",
      "Increase the number of iterations (max_iter) or scale the data as shown in:\n",
      "    https://scikit-learn.org/stable/modules/preprocessing.html\n",
      "Please also refer to the documentation for alternative solver options:\n",
      "    https://scikit-learn.org/stable/modules/linear_model.html#logistic-regression\n",
      "  n_iter_i = _check_optimize_result(\n",
      "/Users/jabam/opt/anaconda3/lib/python3.8/site-packages/sklearn/linear_model/_logistic.py:762: ConvergenceWarning: lbfgs failed to converge (status=1):\n",
      "STOP: TOTAL NO. of ITERATIONS REACHED LIMIT.\n",
      "\n",
      "Increase the number of iterations (max_iter) or scale the data as shown in:\n",
      "    https://scikit-learn.org/stable/modules/preprocessing.html\n",
      "Please also refer to the documentation for alternative solver options:\n",
      "    https://scikit-learn.org/stable/modules/linear_model.html#logistic-regression\n",
      "  n_iter_i = _check_optimize_result(\n",
      "/Users/jabam/opt/anaconda3/lib/python3.8/site-packages/sklearn/linear_model/_logistic.py:762: ConvergenceWarning: lbfgs failed to converge (status=1):\n",
      "STOP: TOTAL NO. of ITERATIONS REACHED LIMIT.\n",
      "\n",
      "Increase the number of iterations (max_iter) or scale the data as shown in:\n",
      "    https://scikit-learn.org/stable/modules/preprocessing.html\n",
      "Please also refer to the documentation for alternative solver options:\n",
      "    https://scikit-learn.org/stable/modules/linear_model.html#logistic-regression\n",
      "  n_iter_i = _check_optimize_result(\n",
      "/Users/jabam/opt/anaconda3/lib/python3.8/site-packages/sklearn/linear_model/_logistic.py:762: ConvergenceWarning: lbfgs failed to converge (status=1):\n",
      "STOP: TOTAL NO. of ITERATIONS REACHED LIMIT.\n",
      "\n",
      "Increase the number of iterations (max_iter) or scale the data as shown in:\n",
      "    https://scikit-learn.org/stable/modules/preprocessing.html\n",
      "Please also refer to the documentation for alternative solver options:\n",
      "    https://scikit-learn.org/stable/modules/linear_model.html#logistic-regression\n",
      "  n_iter_i = _check_optimize_result(\n",
      "/Users/jabam/opt/anaconda3/lib/python3.8/site-packages/sklearn/linear_model/_logistic.py:762: ConvergenceWarning: lbfgs failed to converge (status=1):\n",
      "STOP: TOTAL NO. of ITERATIONS REACHED LIMIT.\n",
      "\n",
      "Increase the number of iterations (max_iter) or scale the data as shown in:\n",
      "    https://scikit-learn.org/stable/modules/preprocessing.html\n",
      "Please also refer to the documentation for alternative solver options:\n",
      "    https://scikit-learn.org/stable/modules/linear_model.html#logistic-regression\n",
      "  n_iter_i = _check_optimize_result(\n"
     ]
    },
    {
     "data": {
      "text/plain": [
       "[<matplotlib.lines.Line2D at 0x7f88cd33fe20>]"
      ]
     },
     "execution_count": 209,
     "metadata": {},
     "output_type": "execute_result"
    },
    {
     "data": {
      "image/png": "[encoded data removed]",
      "text/plain": [
       "<Figure size 432x288 with 1 Axes>"
      ]
     },
     "metadata": {
      "needs_background": "light"
     },
     "output_type": "display_data"
    }
   ],
   "source": [
    "acc = []\n",
    "it = []\n",
    "for i in range(0, 1000):\n",
    "    X = final.iloc[:,[1,2]].values\n",
    "    y = final.iloc[:,9].values\n",
    "    X_train, X_test, y_train, y_test = train_test_split(X,y,test_size=.25,random_state=0)\n",
    "    sc = StandardScaler()\n",
    "    X_train = sc.fit_transform(X_train)\n",
    "    X_test = sc.transform(X_test)\n",
    "    classifier = LogisticRegression(random_state=0, max_iter = i)\n",
    "    classifier.fit(X_train, y_train)\n",
    "    y_pred = classifier.predict(X_test)\n",
    "    acc.append(accuracy_score(y_test, y_pred) * 100)\n",
    "    it.append(i)\n",
    "# plt.scatter(it, acc)\n",
    "\n",
    "fig = plt.figure()\n",
    "ax = plt.axes()\n",
    "x = np.linspace(0, 1000, 10)\n",
    "ax.plot(it, acc)"
   ]
  },
  {
   "cell_type": "markdown",
   "metadata": {},
   "source": [
    "## Error analysis\n",
    "\n",
    "_Using this cell, please write a short, clear paragraph explaining what errors your model seems to be making, and offer a brief explanation based on your code below._"
   ]
  },
  {
   "cell_type": "markdown",
   "metadata": {},
   "source": [
    "- The model is probably getting errors, as it seems that trying to only determine win and loss from just points and assists may not give a totally accurate representation of whether LeBron will win or not. The numbers are quite noisy, so trying to classify this problem might prove to be a bit harder than I thought. I think the addition of of minutes and field goals might help. but I'm not too sure how to implement this. "
   ]
  },
  {
   "cell_type": "markdown",
   "metadata": {},
   "source": [
    "## Summary and conclusion\n",
    "\n",
    "_Using this cell, please write a short, clear paragraph describing how your results answer or do not answer your question. What new questions arise from your work? It's OK to use bullet points._\n",
    "\n",
    "Despite the messiness of this notebook, my question was answered; attempting to use both LeBron's points and Assist to determine a win did not improve the accuracy as I has hypothesized. Overall, this was a fun project to poke at. It was quite challenging, but I believe it is a good step into the right direction of my Machine Learning journey."
   ]
  },
  {
   "cell_type": "code",
   "execution_count": null,
   "metadata": {},
   "outputs": [],
   "source": []
  }
 ],
 "metadata": {
  "kernelspec": {
   "display_name": "Python 3",
   "language": "python",
   "name": "python3"
  },
  "language_info": {
   "codemirror_mode": {
    "name": "ipython",
    "version": 3
   },
   "file_extension": ".py",
   "mimetype": "text/x-python",
   "name": "python",
   "nbconvert_exporter": "python",
   "pygments_lexer": "ipython3",
   "version": "3.8.3"
  }
 },
 "nbformat": 4,
 "nbformat_minor": 4
}
