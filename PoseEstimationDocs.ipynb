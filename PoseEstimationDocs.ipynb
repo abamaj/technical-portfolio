{
 "cells": [
  {
   "cell_type": "code",
   "execution_count": null,
   "metadata": {},
   "outputs": [],
   "source": [
    "import cv2\n",
    "import mediapipe as mp\n",
    "import numpy as np\n",
    "\n",
    "mp_drawing = mp.solutions.drawing_utils\n",
    "mp_pose = mp.solutions.pose\n",
    "\n",
    "cap = cv2.VideoCapture(0)\n",
    "with mp_pose.Pose(min_detection_confidence=0.5, min_tracking_confidence=0.5) as pose:\n",
    "        while cap.isOpened():\n",
    "            #give current webcam feed\n",
    "            ret, frame = cap.read()\n",
    "            \n",
    "            #recolor image that is picked up from frame\n",
    "            image = cv2.cvtColor(frame, cv2.COLOR_BGR2RGB)\n",
    "            #setting whether it is writable or not (not here)\n",
    "            image.flags.writeable = False\n",
    "            #make detection of frame, store it in results\n",
    "            results = pose.process(image)\n",
    "            #recolor back to bgr and make it writable\n",
    "            image.flags.writeable = True\n",
    "            image = cv2.cvtColor(image, cv2.COLOR_BGR2RGB)\n",
    "            \n",
    "            #extract the joints\n",
    "            try:\n",
    "                landmarks = results.pose_landmarks.landmark\n",
    "#                 print(landmarks)\n",
    "            except:\n",
    "                pass\n",
    "            \n",
    "            #rendering detections to draw to image\n",
    "            mp_drawing.draw_landmarks(image, results.pose_landmarks, mp_pose.POSE_CONNECTIONS,\n",
    "                                     #change the dot colors\n",
    "                                     mp_drawing.DrawingSpec(color=(245,117,66), thickness = 5, circle_radius = 5),\n",
    "                                     #change connection colors\n",
    "                                     mp_drawing.DrawingSpec(color=(245,66,230), thickness = 5, circle_radius = 5)\n",
    "                                     )\n",
    "            #visualize webcam feed\n",
    "            cv2.imshow('Mediapipe Feed', image)\n",
    "            #if we hit 'q' or check out of screen, break out of feed \n",
    "            if cv2.waitKey(1) & 0xFF == ord('q'):\n",
    "                break\n",
    "        cap.release()\n",
    "        cv2.destroyAllWindows() \n",
    "\n",
    "def calcAngle(a,b,c):\n",
    "    #a (first), b (mid), c (end)\n",
    "    a = np.array(a)\n",
    "    b = np.array(b)\n",
    "    c = np.array(c)\n",
    "    \n",
    "    radians = np.arctan2(c[1]-b[1], c[0], b[0]) - np.arctan2(a[1]-b[1], a[0], b[0])\n",
    "    angle = np.abs(radians * 180.0/np.pi)\n",
    "    if angle > 180.0:\n",
    "        angle = 360 - angle\n",
    "    return angle"
   ]
  },
  {
   "cell_type": "code",
   "execution_count": null,
   "metadata": {},
   "outputs": [],
   "source": [
    "#print specific landmark's coodrinates\n",
    "landmarks[mp_pose.PoseLandmark.NOSE.value]"
   ]
  },
  {
   "cell_type": "code",
   "execution_count": null,
   "metadata": {},
   "outputs": [],
   "source": []
  }
 ],
 "metadata": {
  "kernelspec": {
   "display_name": "Python 3",
   "language": "python",
   "name": "python3"
  },
  "language_info": {
   "codemirror_mode": {
    "name": "ipython",
    "version": 3
   },
   "file_extension": ".py",
   "mimetype": "text/x-python",
   "name": "python",
   "nbconvert_exporter": "python",
   "pygments_lexer": "ipython3",
   "version": "3.8.3"
  }
 },
 "nbformat": 4,
 "nbformat_minor": 4
}
